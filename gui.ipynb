{
 "cells": [
  {
   "cell_type": "code",
   "execution_count": 5,
   "metadata": {},
   "outputs": [],
   "source": [
    "import ipywidgets as widgets\n",
    "from IPython.display import display\n",
    "import serial\n",
    "\n",
    "ser = serial.Serial('/dev/cu.usbmodem101', baudrate=115200)"
   ]
  },
  {
   "cell_type": "code",
   "execution_count": 35,
   "metadata": {},
   "outputs": [
    {
     "data": {
      "application/vnd.jupyter.widget-view+json": {
       "model_id": "b87472ec690243d99dd23325182ef3a0",
       "version_major": 2,
       "version_minor": 0
      },
      "text/plain": [
       "VBox(children=(GridBox(children=(Button(description='100 Watts', style=ButtonStyle()), Button(description='200…"
      ]
     },
     "metadata": {},
     "output_type": "display_data"
    }
   ],
   "source": [
    "from functools import partial\n",
    "kg = 78\n",
    "\n",
    "def on_slider_change(change):\n",
    "    new_value = change['new']\n",
    "    ser.write(f'{new_value}\\n'.encode())  # Send the new value via serial\n",
    "\n",
    "def set_wpk(wpk: int, button):\n",
    "    slider.value = wpk * kg\n",
    "\n",
    "def set_2_3_wpk(button):\n",
    "    slider.value = 2.3 * kg\n",
    "\n",
    "def increase_value(button):\n",
    "    slider.value += 5\n",
    "\n",
    "def set_watt(watt: int, button):\n",
    "    slider.value = watt\n",
    "\n",
    "def decrease_value(button):\n",
    "    slider.value -= 5\n",
    "\n",
    "slider = widgets.IntSlider(value=150, min=0, max=600,\n",
    "                           step=1, description='Slider:')\n",
    "slider.observe(on_slider_change, names='value')\n",
    "\n",
    "button_100 = widgets.Button(description='100 Watts')\n",
    "button_200 = widgets.Button(description='200 Watts')\n",
    "button_300 = widgets.Button(description='300 Watts')\n",
    "btn_2_3 = widgets.Button(description='(D) 2.3 W/kg')\n",
    "btn_2_6 = widgets.Button(description='(C) 2.6 W/kg)')\n",
    "btn_3_1 = widgets.Button(description='(B) 3.1 W/kg)')\n",
    "button_increase = widgets.Button(description='Increase')\n",
    "button_decrease = widgets.Button(description='Decrease')\n",
    "\n",
    "button_100.on_click(partial(set_watt, 100))\n",
    "button_200.on_click(partial(set_watt, 200))\n",
    "button_300.on_click(partial(set_watt, 300))\n",
    "btn_2_3.on_click(partial(set_wpk, 2.3))\n",
    "btn_2_6.on_click(partial(set_wpk, 2.6))\n",
    "btn_3_1.on_click(partial(set_wpk, 3.1))\n",
    "button_increase.on_click(increase_value)\n",
    "button_decrease.on_click(decrease_value)\n",
    "\n",
    "\n",
    "# Arrange buttons in a grid\n",
    "button_grid = widgets.GridBox(children=[button_100, button_200, button_300, btn_2_3, btn_2_6, btn_3_1, button_increase, button_decrease],\n",
    "                              layout=widgets.Layout(grid_template_columns=\"repeat(3, 151px)\"))\n",
    "\n",
    "# Arrange buttons and slider vertically\n",
    "button_container = widgets.VBox([button_grid, slider])\n",
    "\n",
    "# Display the widgets\n",
    "display(button_container)\n"
   ]
  },
  {
   "cell_type": "code",
   "execution_count": 4,
   "metadata": {},
   "outputs": [],
   "source": [
    "ser.close()\n"
   ]
  }
 ],
 "metadata": {
  "kernelspec": {
   "display_name": "jupiter",
   "language": "python",
   "name": "python3"
  },
  "language_info": {
   "codemirror_mode": {
    "name": "ipython",
    "version": 3
   },
   "file_extension": ".py",
   "mimetype": "text/x-python",
   "name": "python",
   "nbconvert_exporter": "python",
   "pygments_lexer": "ipython3",
   "version": "3.8.16"
  }
 },
 "nbformat": 4,
 "nbformat_minor": 2
}
